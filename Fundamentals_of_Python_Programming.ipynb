{
  "nbformat": 4,
  "nbformat_minor": 0,
  "metadata": {
    "colab": {
      "provenance": [],
      "authorship_tag": "ABX9TyOmHSy7ry4Cp8dmLRQ5dI4B",
      "include_colab_link": true
    },
    "kernelspec": {
      "name": "python3",
      "display_name": "Python 3"
    },
    "language_info": {
      "name": "python"
    }
  },
  "cells": [
    {
      "cell_type": "markdown",
      "metadata": {
        "id": "view-in-github",
        "colab_type": "text"
      },
      "source": [
        "<a href=\"https://colab.research.google.com/github/RituAnilkumar/nnrms/blob/main/Fundamentals_of_Python_Programming.ipynb\" target=\"_parent\"><img src=\"https://colab.research.google.com/assets/colab-badge.svg\" alt=\"Open In Colab\"/></a>"
      ]
    },
    {
      "cell_type": "markdown",
      "source": [
        "# Fundamentals of Python Programming"
      ],
      "metadata": {
        "id": "hxKhkXPRxK7X"
      }
    },
    {
      "cell_type": "markdown",
      "source": [
        "**Author:** Ritu Anilkumar | Scientist/Engineer SD\n",
        "\n",
        "ritu.anilkumar@nesac.gov.in"
      ],
      "metadata": {
        "id": "7V4QzRlqbxhy"
      }
    },
    {
      "cell_type": "markdown",
      "source": [
        "## How do we work with Python?\n",
        "\n",
        "\n",
        "1.   Download Python from https://www.python.org/, write script as .py file and execute\n",
        "  *   Terminal/Powershell\n",
        "  *   Use an IDE like IDLE, PyCharm, VS Code\n",
        "  *   Use a notebook like Jupyter Notebook.\n",
        "\n",
        "2.   Install Anaconda: install on different environments\n",
        "\n",
        "3. Online platforms without installing Python: Eg Azure, Colab etc"
      ],
      "metadata": {
        "id": "PWYoQWY8u01x"
      }
    },
    {
      "cell_type": "markdown",
      "source": [
        "# Comments, commands and datatypes\n",
        "In this section, we will cover:\n",
        "\n",
        "1.   Commands are run by the computer. Comments are ignored and meant for programmer for understanding.\n",
        "2.   Some preliminary commands: print, type\n",
        "3.   Basic data types: int, float, string\n"
      ],
      "metadata": {
        "id": "SAh3znyDxuNu"
      }
    },
    {
      "cell_type": "code",
      "execution_count": 1,
      "metadata": {
        "id": "cRRVKzfCxKST",
        "colab": {
          "base_uri": "https://localhost:8080/"
        },
        "outputId": "c021b603-0128-40ec-ccfc-00261cd2a9a6"
      },
      "outputs": [
        {
          "output_type": "stream",
          "name": "stdout",
          "text": [
            "Hello World!\n"
          ]
        }
      ],
      "source": [
        "# The first command of any programming language: Hello world!\n",
        "print('Hello World!')"
      ]
    },
    {
      "cell_type": "code",
      "source": [
        "# Printing a number\n",
        "print(1)"
      ],
      "metadata": {
        "id": "qtFWaRBLx_Fv",
        "colab": {
          "base_uri": "https://localhost:8080/"
        },
        "outputId": "89dd266e-3015-4a89-ccd4-96b1069c155a"
      },
      "execution_count": 2,
      "outputs": [
        {
          "output_type": "stream",
          "name": "stdout",
          "text": [
            "1\n"
          ]
        }
      ]
    },
    {
      "cell_type": "code",
      "source": [
        "# Common datatypes: int, string, float\n",
        "print(type(1.0))\n",
        "print(type(1))\n",
        "print(type(\"1\"))"
      ],
      "metadata": {
        "colab": {
          "base_uri": "https://localhost:8080/"
        },
        "id": "lTuRzllTyIVH",
        "outputId": "2d5df91b-a89a-4ac5-c605-f59054de70bc"
      },
      "execution_count": 3,
      "outputs": [
        {
          "output_type": "stream",
          "name": "stdout",
          "text": [
            "<class 'float'>\n",
            "<class 'int'>\n",
            "<class 'str'>\n"
          ]
        }
      ]
    },
    {
      "cell_type": "markdown",
      "source": [
        "# Variables\n",
        "We use variables to store information. In the above example, we have printed \"Hello World!\" We can also save this in a variable and print it directly through the print command. This is useful when we need to use the same line multiple times."
      ],
      "metadata": {
        "id": "Qa6RMufU0VOv"
      }
    },
    {
      "cell_type": "code",
      "source": [
        "x='Hello World!'\n",
        "print(x)\n",
        "print(x)\n",
        "print(x)"
      ],
      "metadata": {
        "colab": {
          "base_uri": "https://localhost:8080/"
        },
        "id": "ATNLMstvyQ9z",
        "outputId": "4e420f76-f33b-49fc-fb8b-ca1fdc5172fa"
      },
      "execution_count": 4,
      "outputs": [
        {
          "output_type": "stream",
          "name": "stdout",
          "text": [
            "Hello World!\n",
            "Hello World!\n",
            "Hello World!\n"
          ]
        }
      ]
    },
    {
      "cell_type": "code",
      "source": [
        "print('x')"
      ],
      "metadata": {
        "colab": {
          "base_uri": "https://localhost:8080/"
        },
        "id": "T1BVQtuTOXnR",
        "outputId": "64cd5f98-ef3b-4f2a-fcb2-9ffd18e488b6"
      },
      "execution_count": 5,
      "outputs": [
        {
          "output_type": "stream",
          "name": "stdout",
          "text": [
            "x\n"
          ]
        }
      ]
    },
    {
      "cell_type": "markdown",
      "source": [
        "# Arithmetic Operations"
      ],
      "metadata": {
        "id": "d9n9HjIszO9j"
      }
    },
    {
      "cell_type": "markdown",
      "source": [
        "Next, let's take a look at some simple operations. We will create variables a and b and pass values to it. We will print the sum of a and b."
      ],
      "metadata": {
        "id": "xeL7m0uu0gZp"
      }
    },
    {
      "cell_type": "code",
      "source": [
        "a=3\n",
        "b=9\n",
        "c=a+b\n",
        "d=a-b\n",
        "print('The sum of a and b is ',c)\n",
        "print('The difference of a and b is ',d)"
      ],
      "metadata": {
        "id": "PLzsP8cz0kD7",
        "colab": {
          "base_uri": "https://localhost:8080/"
        },
        "outputId": "2b93e9d5-1657-4ba4-c0ef-0f0ab425d6cb"
      },
      "execution_count": 6,
      "outputs": [
        {
          "output_type": "stream",
          "name": "stdout",
          "text": [
            "The sum of a and b is  12\n",
            "The difference of a and b is  -6\n"
          ]
        }
      ]
    },
    {
      "cell_type": "code",
      "source": [
        "print(2**4)\n",
        "2**2"
      ],
      "metadata": {
        "colab": {
          "base_uri": "https://localhost:8080/"
        },
        "id": "wH-usEqSIB6H",
        "outputId": "5039d714-2194-49e7-f5a3-bed663c0b69f"
      },
      "execution_count": 7,
      "outputs": [
        {
          "output_type": "stream",
          "name": "stdout",
          "text": [
            "16\n"
          ]
        },
        {
          "output_type": "execute_result",
          "data": {
            "text/plain": [
              "4"
            ]
          },
          "metadata": {},
          "execution_count": 7
        }
      ]
    },
    {
      "cell_type": "markdown",
      "source": [
        "# Relational Operations"
      ],
      "metadata": {
        "id": "9-oL5sVBzQuz"
      }
    },
    {
      "cell_type": "markdown",
      "source": [
        "Relational oeprations give an output of true or false"
      ],
      "metadata": {
        "id": "OM5wK0n41JNl"
      }
    },
    {
      "cell_type": "code",
      "source": [
        "a=1\n",
        "b=3\n",
        "print('Is a greater than or equal to b:',a>=b)\n",
        "print('Is a lesser than b:',(a<b))\n"
      ],
      "metadata": {
        "colab": {
          "base_uri": "https://localhost:8080/"
        },
        "id": "UDy5cpXe1B0J",
        "outputId": "8d4aad51-7464-4f46-dec0-7389c28dcc59"
      },
      "execution_count": 8,
      "outputs": [
        {
          "output_type": "stream",
          "name": "stdout",
          "text": [
            "Is a greater than or equal to b: False\n",
            "Is a lesser than b: True\n"
          ]
        }
      ]
    },
    {
      "cell_type": "code",
      "source": [
        "print(type(True))"
      ],
      "metadata": {
        "colab": {
          "base_uri": "https://localhost:8080/"
        },
        "id": "p2gMkeVV1NGV",
        "outputId": "669318d6-ce49-4032-f2a2-e4ab3122623f"
      },
      "execution_count": 9,
      "outputs": [
        {
          "output_type": "stream",
          "name": "stdout",
          "text": [
            "<class 'bool'>\n"
          ]
        }
      ]
    },
    {
      "cell_type": "markdown",
      "source": [
        "# Logical Operations"
      ],
      "metadata": {
        "id": "xEWxtkVhzS6z"
      }
    },
    {
      "cell_type": "markdown",
      "source": [
        "Applies AND, OR, NOT etc. Also Boolean output"
      ],
      "metadata": {
        "id": "OYotq-yY1kdL"
      }
    },
    {
      "cell_type": "code",
      "source": [
        "a=1\n",
        "b=3\n",
        "c=1\n",
        "print('Is a greater than b OR a not equal to c:',(a>b)|(a!=c))\n",
        "print('Is a lesser than b AND a equal to c:',(a<b)&(a==c))"
      ],
      "metadata": {
        "colab": {
          "base_uri": "https://localhost:8080/"
        },
        "id": "BspdXtlI1jkD",
        "outputId": "94e1524d-31f2-4e87-9953-9534abc5d6c9"
      },
      "execution_count": 10,
      "outputs": [
        {
          "output_type": "stream",
          "name": "stdout",
          "text": [
            "Is a greater than b OR a not equal to c: False\n",
            "Is a lesser than b AND a equal to c: True\n"
          ]
        }
      ]
    },
    {
      "cell_type": "code",
      "source": [
        "a=1\n",
        "b=3\n",
        "c=1"
      ],
      "metadata": {
        "id": "fpYzcLJXP_oX"
      },
      "execution_count": 11,
      "outputs": []
    },
    {
      "cell_type": "code",
      "source": [
        "print(a>b)"
      ],
      "metadata": {
        "colab": {
          "base_uri": "https://localhost:8080/"
        },
        "id": "ZmK_OV54QB2r",
        "outputId": "d26d1535-8e6e-4717-af07-7f5ebadf946b"
      },
      "execution_count": 12,
      "outputs": [
        {
          "output_type": "stream",
          "name": "stdout",
          "text": [
            "False\n"
          ]
        }
      ]
    },
    {
      "cell_type": "code",
      "source": [
        "print(a!=c)"
      ],
      "metadata": {
        "colab": {
          "base_uri": "https://localhost:8080/"
        },
        "id": "NHi4f2pbQB0Z",
        "outputId": "624e574f-05dd-4fe2-e367-fee2c88b217a"
      },
      "execution_count": 13,
      "outputs": [
        {
          "output_type": "stream",
          "name": "stdout",
          "text": [
            "False\n"
          ]
        }
      ]
    },
    {
      "cell_type": "code",
      "source": [
        "print((a>b)|(a==c))"
      ],
      "metadata": {
        "colab": {
          "base_uri": "https://localhost:8080/"
        },
        "id": "t1lnJP53QByB",
        "outputId": "55c41442-df74-449a-e774-dce9ec2a069d"
      },
      "execution_count": 14,
      "outputs": [
        {
          "output_type": "stream",
          "name": "stdout",
          "text": [
            "True\n"
          ]
        }
      ]
    },
    {
      "cell_type": "markdown",
      "source": [
        "# Some more data types"
      ],
      "metadata": {
        "id": "x0tfLRsWyy1X"
      }
    },
    {
      "cell_type": "markdown",
      "source": [
        "## Lists"
      ],
      "metadata": {
        "id": "eNdhIkYN36EE"
      }
    },
    {
      "cell_type": "markdown",
      "source": [
        "A list is a sequence of objects. It can have any number of objects inside. In Python lists are written with square brackets"
      ],
      "metadata": {
        "id": "MG2wM9zS3nJ8"
      }
    },
    {
      "cell_type": "code",
      "source": [
        "tourist_locations = ['Double decker libing root bridge', 'Mawlyngbna watertrek', 'Dawki river', 'Krang Suri waterfall']\n",
        "print(tourist_locations)"
      ],
      "metadata": {
        "colab": {
          "base_uri": "https://localhost:8080/"
        },
        "id": "Spd78m3Y2GDQ",
        "outputId": "9e13dc19-e288-4752-eb03-4d040af06779"
      },
      "execution_count": 15,
      "outputs": [
        {
          "output_type": "stream",
          "name": "stdout",
          "text": [
            "['Double decker libing root bridge', 'Mawlyngbna watertrek', 'Dawki river', 'Krang Suri waterfall']\n"
          ]
        }
      ]
    },
    {
      "cell_type": "markdown",
      "source": [
        "Elements can be accessed by the index that starts with 0"
      ],
      "metadata": {
        "id": "CFTq1jhw3txF"
      }
    },
    {
      "cell_type": "code",
      "source": [
        "print(tourist_locations[2])"
      ],
      "metadata": {
        "colab": {
          "base_uri": "https://localhost:8080/"
        },
        "id": "c5mJZr2lzor5",
        "outputId": "124a1154-ee9b-4311-b4f5-b692bd4e02f6"
      },
      "execution_count": 16,
      "outputs": [
        {
          "output_type": "stream",
          "name": "stdout",
          "text": [
            "Dawki river\n"
          ]
        }
      ]
    },
    {
      "cell_type": "markdown",
      "source": [
        "We can also use negative indices to start from the last"
      ],
      "metadata": {
        "id": "Pf2tc57Qzg9P"
      }
    },
    {
      "cell_type": "code",
      "source": [
        "print(tourist_locations[-2])"
      ],
      "metadata": {
        "colab": {
          "base_uri": "https://localhost:8080/"
        },
        "id": "zxmluUny3w6E",
        "outputId": "31055e1a-a2a3-4fcb-81fc-fb4fd22b2fd9"
      },
      "execution_count": 17,
      "outputs": [
        {
          "output_type": "stream",
          "name": "stdout",
          "text": [
            "Dawki river\n"
          ]
        }
      ]
    },
    {
      "cell_type": "markdown",
      "source": [
        "You can call len() function with any Python object and it will calculates the size of the object."
      ],
      "metadata": {
        "id": "29HICWQk3-I8"
      }
    },
    {
      "cell_type": "code",
      "source": [
        "print(len(tourist_locations))"
      ],
      "metadata": {
        "id": "xuMpIKui3-wv",
        "colab": {
          "base_uri": "https://localhost:8080/"
        },
        "outputId": "b3033848-56cf-492a-b499-9ebf172c3499"
      },
      "execution_count": 18,
      "outputs": [
        {
          "output_type": "stream",
          "name": "stdout",
          "text": [
            "4\n"
          ]
        }
      ]
    },
    {
      "cell_type": "markdown",
      "source": [
        "You can add elements to the list using the Python function append()"
      ],
      "metadata": {
        "id": "9_4nU05N4Bx8"
      }
    },
    {
      "cell_type": "code",
      "source": [
        "print('Old list:',tourist_locations)\n",
        "tourist_locations.append('Wei Saw Dong waterfall')\n",
        "print('New list:',tourist_locations)"
      ],
      "metadata": {
        "colab": {
          "base_uri": "https://localhost:8080/"
        },
        "id": "w7XqH7kS4EP8",
        "outputId": "4a1c2ea7-bb51-47a7-ce19-3e1ca287dba4"
      },
      "execution_count": 19,
      "outputs": [
        {
          "output_type": "stream",
          "name": "stdout",
          "text": [
            "Old list: ['Double decker libing root bridge', 'Mawlyngbna watertrek', 'Dawki river', 'Krang Suri waterfall']\n",
            "New list: ['Double decker libing root bridge', 'Mawlyngbna watertrek', 'Dawki river', 'Krang Suri waterfall', 'Wei Saw Dong waterfall']\n"
          ]
        }
      ]
    },
    {
      "cell_type": "markdown",
      "source": [
        "You can also include different datatypes in the same list"
      ],
      "metadata": {
        "id": "jP5aOLtW4gH8"
      }
    },
    {
      "cell_type": "code",
      "source": [
        "test=[1,2,'test']\n",
        "print(test[-1])"
      ],
      "metadata": {
        "id": "FMk7xXTM4WQc",
        "colab": {
          "base_uri": "https://localhost:8080/"
        },
        "outputId": "76f75d5c-d357-4ab1-d176-07e943b64aab"
      },
      "execution_count": 20,
      "outputs": [
        {
          "output_type": "stream",
          "name": "stdout",
          "text": [
            "test\n"
          ]
        }
      ]
    },
    {
      "cell_type": "markdown",
      "source": [
        "**USEFUL TIP** : There is a helper function called range if you would like to create a list of numbers in a particular range. It includes the first element and skips the last element."
      ],
      "metadata": {
        "id": "gUVDGE7R4rC8"
      }
    },
    {
      "cell_type": "code",
      "source": [
        "a=range(2,100)\n",
        "print(a[0])\n",
        "print(a[1])\n",
        "# print(a[2])\n",
        "# print(a[3])"
      ],
      "metadata": {
        "colab": {
          "base_uri": "https://localhost:8080/"
        },
        "id": "4yWAUl_F4zEs",
        "outputId": "225cdb5f-cc13-4e5d-baa8-dee0d00cc0b1"
      },
      "execution_count": 21,
      "outputs": [
        {
          "output_type": "stream",
          "name": "stdout",
          "text": [
            "2\n",
            "3\n"
          ]
        }
      ]
    },
    {
      "cell_type": "code",
      "source": [
        "len(a)"
      ],
      "metadata": {
        "colab": {
          "base_uri": "https://localhost:8080/"
        },
        "id": "v-00x2JjL-VT",
        "outputId": "b0415e32-0140-4304-ef84-1b2f19105898"
      },
      "execution_count": 22,
      "outputs": [
        {
          "output_type": "execute_result",
          "data": {
            "text/plain": [
              "98"
            ]
          },
          "metadata": {},
          "execution_count": 22
        }
      ]
    },
    {
      "cell_type": "markdown",
      "source": [
        "## Dictionaries"
      ],
      "metadata": {
        "id": "c4G94xI05fK8"
      }
    },
    {
      "cell_type": "markdown",
      "source": [
        "In Python dictionaries are written with curly brackets {}. Dictionaries have keys and values. With lists, we can access each element by its index. But a dictionary makes it easy to access the element by name. Keys and values are separated by a colon :."
      ],
      "metadata": {
        "id": "yr_LBtMy3DNW"
      }
    },
    {
      "cell_type": "code",
      "source": [
        "data = {'location': 'Double decker living root bridge', 'weekly_tourists': 88}\n",
        "print(data)"
      ],
      "metadata": {
        "colab": {
          "base_uri": "https://localhost:8080/"
        },
        "id": "p8GaT5qw3EbG",
        "outputId": "2b3fc938-d524-4249-bf22-c26b59138c5a"
      },
      "execution_count": 23,
      "outputs": [
        {
          "output_type": "stream",
          "name": "stdout",
          "text": [
            "{'location': 'Double decker living root bridge', 'weekly_tourists': 88}\n"
          ]
        }
      ]
    },
    {
      "cell_type": "code",
      "source": [
        "data['location']"
      ],
      "metadata": {
        "colab": {
          "base_uri": "https://localhost:8080/",
          "height": 36
        },
        "id": "LE73jJhQ3Z1O",
        "outputId": "7077143d-0d35-4cd6-cd35-379bffcff183"
      },
      "execution_count": 24,
      "outputs": [
        {
          "output_type": "execute_result",
          "data": {
            "text/plain": [
              "'Double decker living root bridge'"
            ],
            "application/vnd.google.colaboratory.intrinsic+json": {
              "type": "string"
            }
          },
          "metadata": {},
          "execution_count": 24
        }
      ]
    },
    {
      "cell_type": "markdown",
      "source": [
        "# Functions"
      ],
      "metadata": {
        "id": "qMaW4cjOzeCQ"
      }
    },
    {
      "cell_type": "markdown",
      "source": [
        "Sometimes, we have a set of operations which need to be repeated over and over again. In such cases, it's a good idea to define functions. Functions generally consist of the function name, it's arguments, the operations performed and the values returned. Consider the following example of a function:"
      ],
      "metadata": {
        "id": "PZnfRr3H5yRU"
      }
    },
    {
      "cell_type": "code",
      "source": [
        "def add_subtract(a,b):\n",
        "  sum=a+b\n",
        "  diff=a-b\n",
        "  return sum,diff"
      ],
      "metadata": {
        "id": "Fmvec0Am5x80"
      },
      "execution_count": 25,
      "outputs": []
    },
    {
      "cell_type": "markdown",
      "source": [
        "**NOTE: Please see the indentation in the function.** Here, add_subtract is the function name which is defined using the def keyword. We pass the arguments a and b to the function and two variables for sum and difference are calculated and returned. Now, we can call the function and get the outputs."
      ],
      "metadata": {
        "id": "DKzi6qRU56EN"
      }
    },
    {
      "cell_type": "code",
      "source": [
        "x=5\n",
        "y=2\n",
        "s1,d1=add_subtract(x,y)\n",
        "print('Sum1 is ',s1,' and difference1 is ',d1)"
      ],
      "metadata": {
        "colab": {
          "base_uri": "https://localhost:8080/"
        },
        "id": "xW2YaqrD55s0",
        "outputId": "7932ee19-593b-4b7b-a1fd-4ad1ed93caa8"
      },
      "execution_count": 26,
      "outputs": [
        {
          "output_type": "stream",
          "name": "stdout",
          "text": [
            "Sum1 is  7  and difference1 is  3\n"
          ]
        }
      ]
    },
    {
      "cell_type": "code",
      "source": [
        "s2,d2=add_subtract(6,1)\n",
        "print('Sum2 is ',s2,' and difference2 is ',d2)\n"
      ],
      "metadata": {
        "colab": {
          "base_uri": "https://localhost:8080/"
        },
        "id": "9qGjP0itUdGB",
        "outputId": "2d74c2ff-91ca-4ec1-9b6e-65f7eb3ae5f9"
      },
      "execution_count": 27,
      "outputs": [
        {
          "output_type": "stream",
          "name": "stdout",
          "text": [
            "Sum2 is  7  and difference2 is  5\n"
          ]
        }
      ]
    },
    {
      "cell_type": "code",
      "source": [
        "print('Sum3 and difference3 is ', add_subtract(2,9))"
      ],
      "metadata": {
        "colab": {
          "base_uri": "https://localhost:8080/"
        },
        "id": "ljfX0Zb1UsTp",
        "outputId": "286d6cd4-2934-46a6-a6eb-9a8910353a49"
      },
      "execution_count": 28,
      "outputs": [
        {
          "output_type": "stream",
          "name": "stdout",
          "text": [
            "Sum3 and difference3 is  (11, -7)\n"
          ]
        }
      ]
    },
    {
      "cell_type": "markdown",
      "source": [
        "# Logic Flow with if statements"
      ],
      "metadata": {
        "id": "9c23aEoOzlcO"
      }
    },
    {
      "cell_type": "markdown",
      "source": [
        "We also have some statements that will help us make decisions about what statements to execute next. These are the control statements. A commonly used such statement is the if else statement illustrated below:"
      ],
      "metadata": {
        "id": "sO1G8ETD6qyN"
      }
    },
    {
      "cell_type": "code",
      "source": [
        "def check_rel(a,b):\n",
        "  if a>b:\n",
        "    print(a,' is greater than', b)\n",
        "  elif a<b:\n",
        "    print(a,' is less than', b)\n",
        "  else:\n",
        "    print('The numbers ',a,' and ',b,' are equal')"
      ],
      "metadata": {
        "id": "neflqmsP6iX1"
      },
      "execution_count": 29,
      "outputs": []
    },
    {
      "cell_type": "code",
      "source": [
        "check_rel(1,2)"
      ],
      "metadata": {
        "colab": {
          "base_uri": "https://localhost:8080/"
        },
        "id": "c9VdLZN963rl",
        "outputId": "6b8e42bd-9c76-4adf-d806-2cfa5f67ca7f"
      },
      "execution_count": 30,
      "outputs": [
        {
          "output_type": "stream",
          "name": "stdout",
          "text": [
            "1  is less than 2\n"
          ]
        }
      ]
    },
    {
      "cell_type": "markdown",
      "source": [
        "We can have the user input a value of their choice as well. This is done using the input function. The input value is by default treated as a string. We can change the data type to be an integer by using type casting. Below, the in function performs the type casting where a string to converted to an integer."
      ],
      "metadata": {
        "id": "Q2WZuBSmAfDk"
      }
    },
    {
      "cell_type": "code",
      "source": [
        "print(\"Énter a number\")\n",
        "x=int(input(\"enter value\"))"
      ],
      "metadata": {
        "colab": {
          "base_uri": "https://localhost:8080/"
        },
        "id": "gCmzMcjjeMiZ",
        "outputId": "0b6aa971-0fbd-4fbd-f405-d325b818fbf9"
      },
      "execution_count": 31,
      "outputs": [
        {
          "name": "stdout",
          "output_type": "stream",
          "text": [
            "Énter a number\n",
            "enter value4\n"
          ]
        }
      ]
    },
    {
      "cell_type": "code",
      "source": [
        "check_rel(3,x)"
      ],
      "metadata": {
        "colab": {
          "base_uri": "https://localhost:8080/"
        },
        "id": "g8hIvwIDeHSx",
        "outputId": "e90666a0-269b-4aff-ae21-c04880fef9cb"
      },
      "execution_count": 32,
      "outputs": [
        {
          "output_type": "stream",
          "name": "stdout",
          "text": [
            "3  is less than 4\n"
          ]
        }
      ]
    },
    {
      "cell_type": "code",
      "source": [
        "check_rel(2,2)"
      ],
      "metadata": {
        "colab": {
          "base_uri": "https://localhost:8080/"
        },
        "id": "6qabiTwbeIeR",
        "outputId": "c6bd78b7-608f-4bb6-b88b-d96ed601f8a0"
      },
      "execution_count": 33,
      "outputs": [
        {
          "output_type": "stream",
          "name": "stdout",
          "text": [
            "The numbers  2  and  2  are equal\n"
          ]
        }
      ]
    },
    {
      "cell_type": "markdown",
      "source": [
        "# Logic Flow with for statements"
      ],
      "metadata": {
        "id": "c-WBHecTzoy9"
      }
    },
    {
      "cell_type": "markdown",
      "source": [
        "In case a set of statements are to be repeated as long as a condition is valid, we use loops. Consider an example of the for loop below. We can see that i is initially set to 0 and incremented by 1 after each iteration of the loop until it reaches 5. When it reaches 5, it no longer satisfies the condition and hence the execution stops"
      ],
      "metadata": {
        "id": "Lw6pRcdJ7Voy"
      }
    },
    {
      "cell_type": "code",
      "source": [
        "i=5\n",
        "while i>0:\n",
        "  print(i)\n",
        "  i=i-1\n",
        "print('completed')"
      ],
      "metadata": {
        "colab": {
          "base_uri": "https://localhost:8080/"
        },
        "id": "TcrgK4Mcf9Xv",
        "outputId": "afce9f0c-6693-4089-bf01-7a26ca939e05"
      },
      "execution_count": 34,
      "outputs": [
        {
          "output_type": "stream",
          "name": "stdout",
          "text": [
            "5\n",
            "4\n",
            "3\n",
            "2\n",
            "1\n",
            "completed\n"
          ]
        }
      ]
    },
    {
      "cell_type": "code",
      "source": [
        "for i in [0,1,2]:\n",
        "  print(i)\n",
        "  print('Done')\n",
        "print('Stop')"
      ],
      "metadata": {
        "colab": {
          "base_uri": "https://localhost:8080/"
        },
        "id": "Xz-6u8H37U9U",
        "outputId": "ecd500bf-c058-4f3b-a2cd-02046338cd21"
      },
      "execution_count": 35,
      "outputs": [
        {
          "output_type": "stream",
          "name": "stdout",
          "text": [
            "0\n",
            "Done\n",
            "1\n",
            "Done\n",
            "2\n",
            "Done\n",
            "Stop\n"
          ]
        }
      ]
    },
    {
      "cell_type": "markdown",
      "source": [
        "# Introducing Libraries with Numpy"
      ],
      "metadata": {
        "id": "ls6t7Kfqy2F6"
      }
    },
    {
      "cell_type": "markdown",
      "source": [
        "In order to do matrix operations, there is a commonly used library called numpy. This can be imported and we can explore some of the basics of numpy below."
      ],
      "metadata": {
        "id": "ENIHhznS7z3O"
      }
    },
    {
      "cell_type": "code",
      "source": [
        "import numpy\n",
        "a=[1,2,3]\n",
        "print(type(a))\n",
        "b=numpy.array([1,2,3])\n",
        "print(type(b))"
      ],
      "metadata": {
        "colab": {
          "base_uri": "https://localhost:8080/"
        },
        "id": "EyWVMp6J70cP",
        "outputId": "d7f070b1-886b-4f08-9c63-40716be46916"
      },
      "execution_count": 36,
      "outputs": [
        {
          "output_type": "stream",
          "name": "stdout",
          "text": [
            "<class 'list'>\n",
            "<class 'numpy.ndarray'>\n"
          ]
        }
      ]
    },
    {
      "cell_type": "markdown",
      "source": [
        "We can import libraries with an alias to reduce typing effort"
      ],
      "metadata": {
        "id": "Q_os5V3F7-Q0"
      }
    },
    {
      "cell_type": "code",
      "source": [
        "import numpy as np\n",
        "a=[1,2,3]\n",
        "print(type(a))\n",
        "b=np.array([1,2,3])\n",
        "print(type(b))"
      ],
      "metadata": {
        "colab": {
          "base_uri": "https://localhost:8080/"
        },
        "id": "DwWDYsOw77Ld",
        "outputId": "69a189ba-b39f-4adb-f095-fbb698df1a20"
      },
      "execution_count": 37,
      "outputs": [
        {
          "output_type": "stream",
          "name": "stdout",
          "text": [
            "<class 'list'>\n",
            "<class 'numpy.ndarray'>\n"
          ]
        }
      ]
    },
    {
      "cell_type": "markdown",
      "source": [
        "We can use several functions of numpy in Python. Some of them include the shape function, ones function, zeros function, arange function, reshape function etc."
      ],
      "metadata": {
        "id": "5thWpLYp8ITD"
      }
    },
    {
      "cell_type": "code",
      "source": [
        "def test(a,b):\n",
        "  print(a)\n",
        "  print(b)"
      ],
      "metadata": {
        "id": "i43_6XeSZUO4"
      },
      "execution_count": 38,
      "outputs": []
    },
    {
      "cell_type": "code",
      "source": [
        "test(1,2)"
      ],
      "metadata": {
        "colab": {
          "base_uri": "https://localhost:8080/"
        },
        "id": "o0dzsJPYZYuY",
        "outputId": "59e56076-476f-4b3d-fb7e-2b20fa92455a"
      },
      "execution_count": 39,
      "outputs": [
        {
          "output_type": "stream",
          "name": "stdout",
          "text": [
            "1\n",
            "2\n"
          ]
        }
      ]
    },
    {
      "cell_type": "code",
      "source": [
        "a=np.ones((3,4))\n",
        "print(a)"
      ],
      "metadata": {
        "colab": {
          "base_uri": "https://localhost:8080/"
        },
        "id": "ZHMEBN6m8FH8",
        "outputId": "e6de145b-0e63-429c-8baa-a09bf856bb21"
      },
      "execution_count": 40,
      "outputs": [
        {
          "output_type": "stream",
          "name": "stdout",
          "text": [
            "[[1. 1. 1. 1.]\n",
            " [1. 1. 1. 1.]\n",
            " [1. 1. 1. 1.]]\n"
          ]
        }
      ]
    },
    {
      "cell_type": "code",
      "source": [
        "b=np.zeros((3,4))\n",
        "print(b)"
      ],
      "metadata": {
        "colab": {
          "base_uri": "https://localhost:8080/"
        },
        "id": "M36KUWbD8KyE",
        "outputId": "bcae3b7e-c1e7-49dd-e6d0-70ffff9ff03c"
      },
      "execution_count": 41,
      "outputs": [
        {
          "output_type": "stream",
          "name": "stdout",
          "text": [
            "[[0. 0. 0. 0.]\n",
            " [0. 0. 0. 0.]\n",
            " [0. 0. 0. 0.]]\n"
          ]
        }
      ]
    },
    {
      "cell_type": "code",
      "source": [
        "a.shape"
      ],
      "metadata": {
        "colab": {
          "base_uri": "https://localhost:8080/"
        },
        "id": "aoN2XwGT8Nbi",
        "outputId": "51ef597f-f998-4f55-d936-62d2390fcc6b"
      },
      "execution_count": 42,
      "outputs": [
        {
          "output_type": "execute_result",
          "data": {
            "text/plain": [
              "(3, 4)"
            ]
          },
          "metadata": {},
          "execution_count": 42
        }
      ]
    },
    {
      "cell_type": "code",
      "source": [
        "b.shape"
      ],
      "metadata": {
        "colab": {
          "base_uri": "https://localhost:8080/"
        },
        "id": "WdbmA-Rv8QbS",
        "outputId": "b6158e1d-a941-42fd-88d9-cdbe5cebfa2b"
      },
      "execution_count": 43,
      "outputs": [
        {
          "output_type": "execute_result",
          "data": {
            "text/plain": [
              "(3, 4)"
            ]
          },
          "metadata": {},
          "execution_count": 43
        }
      ]
    },
    {
      "cell_type": "markdown",
      "source": [
        "Similar to the range function, numpy has the arange function"
      ],
      "metadata": {
        "id": "WdvjYPxk8V_4"
      }
    },
    {
      "cell_type": "code",
      "source": [
        "a=np.arange(0,31,2,int)\n",
        "print(a)"
      ],
      "metadata": {
        "colab": {
          "base_uri": "https://localhost:8080/"
        },
        "id": "uxNBm-Xh8RCD",
        "outputId": "80ae631a-34a5-4f7e-e02b-760882ed6a93"
      },
      "execution_count": 44,
      "outputs": [
        {
          "output_type": "stream",
          "name": "stdout",
          "text": [
            "[ 0  2  4  6  8 10 12 14 16 18 20 22 24 26 28 30]\n"
          ]
        }
      ]
    },
    {
      "cell_type": "markdown",
      "source": [
        "Let's see the shape of a"
      ],
      "metadata": {
        "id": "badZzN168ccB"
      }
    },
    {
      "cell_type": "code",
      "source": [
        "a.shape"
      ],
      "metadata": {
        "colab": {
          "base_uri": "https://localhost:8080/"
        },
        "id": "R4YRR2tr8cDh",
        "outputId": "cc476011-8653-49bc-fe32-87c9cf376ba5"
      },
      "execution_count": 45,
      "outputs": [
        {
          "output_type": "execute_result",
          "data": {
            "text/plain": [
              "(16,)"
            ]
          },
          "metadata": {},
          "execution_count": 45
        }
      ]
    },
    {
      "cell_type": "markdown",
      "source": [
        "Reshape function changes the shape to the required shape"
      ],
      "metadata": {
        "id": "laUdUwlf8gB4"
      }
    },
    {
      "cell_type": "code",
      "source": [
        "b=a.reshape(4,4)\n",
        "print(b)"
      ],
      "metadata": {
        "colab": {
          "base_uri": "https://localhost:8080/"
        },
        "id": "d-xOdJec8aw6",
        "outputId": "8dcef0e7-51e6-44de-d2fe-5a156c4c3875"
      },
      "execution_count": 46,
      "outputs": [
        {
          "output_type": "stream",
          "name": "stdout",
          "text": [
            "[[ 0  2  4  6]\n",
            " [ 8 10 12 14]\n",
            " [16 18 20 22]\n",
            " [24 26 28 30]]\n"
          ]
        }
      ]
    },
    {
      "cell_type": "code",
      "source": [
        "print(b.shape)"
      ],
      "metadata": {
        "colab": {
          "base_uri": "https://localhost:8080/"
        },
        "id": "M9rVaeX6Z8yx",
        "outputId": "64c5ef13-0c0b-4edc-e134-79c213aecd58"
      },
      "execution_count": 47,
      "outputs": [
        {
          "output_type": "stream",
          "name": "stdout",
          "text": [
            "(4, 4)\n"
          ]
        }
      ]
    },
    {
      "cell_type": "markdown",
      "source": [
        "If you don't know the size exactly, use -1"
      ],
      "metadata": {
        "id": "KnMFFDpU8nsn"
      }
    },
    {
      "cell_type": "code",
      "source": [
        "c=a.reshape(4,-1)\n",
        "print(c.shape)"
      ],
      "metadata": {
        "colab": {
          "base_uri": "https://localhost:8080/"
        },
        "id": "tmrVM1q18jCa",
        "outputId": "0adaacf9-f353-4bd6-bd2b-9f4b5e8fc8ec"
      },
      "execution_count": 48,
      "outputs": [
        {
          "output_type": "stream",
          "name": "stdout",
          "text": [
            "(4, 4)\n"
          ]
        }
      ]
    },
    {
      "cell_type": "markdown",
      "source": [
        "You can refer to the different elements of the numpy array using it's indices. The first row, first column is 0,0 and so on. If want to select a range of values, you can use the colon operator too."
      ],
      "metadata": {
        "id": "EDxOhs-88ww-"
      }
    },
    {
      "cell_type": "code",
      "source": [
        "print(b)"
      ],
      "metadata": {
        "colab": {
          "base_uri": "https://localhost:8080/"
        },
        "id": "Y_MGqLnqaPyQ",
        "outputId": "53f7206e-697d-4bfc-ad3b-d88dae132d51"
      },
      "execution_count": 49,
      "outputs": [
        {
          "output_type": "stream",
          "name": "stdout",
          "text": [
            "[[ 0  2  4  6]\n",
            " [ 8 10 12 14]\n",
            " [16 18 20 22]\n",
            " [24 26 28 30]]\n"
          ]
        }
      ]
    },
    {
      "cell_type": "code",
      "source": [
        "print(b[2:,2:])"
      ],
      "metadata": {
        "colab": {
          "base_uri": "https://localhost:8080/"
        },
        "id": "vhhrwW4Kac1n",
        "outputId": "61b0428c-8c89-423c-a5a0-2ac33afb676f"
      },
      "execution_count": 50,
      "outputs": [
        {
          "output_type": "stream",
          "name": "stdout",
          "text": [
            "[[20 22]\n",
            " [28 30]]\n"
          ]
        }
      ]
    },
    {
      "cell_type": "code",
      "source": [
        "print(b)\n",
        "print('Next')\n",
        "print(b[0,1])\n",
        "print('Next')\n",
        "print(b[3,3])\n",
        "print('Next')\n",
        "print(b[:,0])\n",
        "print('Next')\n",
        "print(b[:2,:])"
      ],
      "metadata": {
        "colab": {
          "base_uri": "https://localhost:8080/"
        },
        "id": "i7VSZeat8rcP",
        "outputId": "d2e3acd4-47a9-452d-ae71-5a905fa58f91"
      },
      "execution_count": 51,
      "outputs": [
        {
          "output_type": "stream",
          "name": "stdout",
          "text": [
            "[[ 0  2  4  6]\n",
            " [ 8 10 12 14]\n",
            " [16 18 20 22]\n",
            " [24 26 28 30]]\n",
            "Next\n",
            "2\n",
            "Next\n",
            "30\n",
            "Next\n",
            "[ 0  8 16 24]\n",
            "Next\n",
            "[[ 0  2  4  6]\n",
            " [ 8 10 12 14]]\n"
          ]
        }
      ]
    },
    {
      "cell_type": "markdown",
      "source": [
        "***"
      ],
      "metadata": {
        "id": "7U1GHDsR0uAl"
      }
    }
  ]
}